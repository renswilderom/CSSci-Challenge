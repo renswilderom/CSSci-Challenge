{
 "cells": [
  {
   "cell_type": "markdown",
   "id": "24d6d842",
   "metadata": {},
   "source": [
    "***\n",
    "\n",
    "## <div align=\"center\"> The Hogwarts Regex challenge\n",
    "\n",
    "<div align=\"center\"> Computational Social Sciences, University of Amsterdam, Febuary, 2023\n",
    "\n",
    "***"
   ]
  },
  {
   "cell_type": "markdown",
   "id": "7e518185",
   "metadata": {},
   "source": [
    "![hogwarts](https://cdn.dribbble.com/users/59947/screenshots/12020903/media/b4aaca6fc95d40427b6bf9b3c5cc05be.jpg?compress=1&resize=1200x900&vertical=top)\n",
    "\n",
    "Artwork by [StudioMuti](https://dribbble.com/studioMUTI)\n"
   ]
  },
  {
   "cell_type": "markdown",
   "id": "c2c60925",
   "metadata": {},
   "source": [
    "***\n",
    "\n",
    "### The challange explained\n",
    "\n",
    "\n",
    "Welcome challengee - it is time to perform magic with Python. To accomplish this challenge, you can use the instructions in this Jupyter Notebook as well as the following websites: \n",
    "\n",
    "* [Docs Python Regular Expressions](https://docs.python.org/3/library/re.html)\n",
    "* [Rex Egg](https://www.rexegg.com/)\n",
    "* [Google for Education Python Regular Expressions](https://developers.google.com/edu/python/regular-expressions)\n",
    "\n",
    "\n",
    "Please do not use any other sources, unless it is specifically stated that you can. The [Rex Egg quickstart](https://www.rexegg.com/regex-quickstart.html) (a Regex cheat sheet) will be particularly useful once you understand the basics.\n",
    "\n",
    "\n",
    "Regex (short for Regular Expressions) is used for 'pattern matching,' which is probably best explained using an example. To illustrate the power of Regex, we first need to import the Regex library, which comes pre-installed in Anaconda, and we compile the string ```s```. You can run the code cell below.\n",
    "\n",
    "***"
   ]
  },
  {
   "cell_type": "code",
   "execution_count": 1,
   "id": "4956c690",
   "metadata": {},
   "outputs": [
    {
     "data": {
      "text/plain": [
       "\"The Philosopher's Stone is published in 1997, but the writing started in 1990.\""
      ]
     },
     "execution_count": 1,
     "metadata": {},
     "output_type": "execute_result"
    }
   ],
   "source": [
    "import re\n",
    "s = 'The Philosopher\\'s Stone is published in 1997, but the writing started in 1990.'\n",
    "s"
   ]
  },
  {
   "cell_type": "markdown",
   "id": "e291486d",
   "metadata": {},
   "source": [
    "***\n",
    "\n",
    "Say that you would like to extract all 'years' from the above string. This can be achieved with the Regex pattern ```\\d{4}``` which will match on all four digit numbers. Whilst ```\\d``` matches on all digits, ```{4}``` quantifies '4 instances of the foregoing character.' In this particular example, you could also have used ```\\d+```, meaning 'one or more digits.' Yet be carefull, as such 'generous' patterns may yield more matches than you like.\n",
    "\n",
    "For now, run the code cell below.\n",
    "\n",
    "***"
   ]
  },
  {
   "cell_type": "code",
   "execution_count": 2,
   "id": "8eedb754",
   "metadata": {},
   "outputs": [
    {
     "data": {
      "text/plain": [
       "['1997', '1990']"
      ]
     },
     "execution_count": 2,
     "metadata": {},
     "output_type": "execute_result"
    }
   ],
   "source": [
    "year = re.findall(r'\\d{4}',s) \n",
    "year"
   ]
  },
  {
   "cell_type": "markdown",
   "id": "7ee1d12f",
   "metadata": {},
   "source": [
    "***\n",
    "\n",
    "As a magician practicioner, you may be interested in any text or numbers in between two specific strings. The pattern ```.*?``` in the example below matches on _everything._ It is placed between two brackets '()' to form a delimited group, i.e. a subset of your full match. \n",
    "\n",
    "First run the code.\n",
    "\n",
    "***"
   ]
  },
  {
   "cell_type": "code",
   "execution_count": 3,
   "id": "1b4ce880",
   "metadata": {},
   "outputs": [
    {
     "data": {
      "text/plain": [
       "'c'"
      ]
     },
     "execution_count": 3,
     "metadata": {},
     "output_type": "execute_result"
    }
   ],
   "source": [
    "s = 'a b c d e f' \n",
    "re.search(r'b(.*?)d', s).group(1).strip()"
   ]
  },
  {
   "cell_type": "markdown",
   "id": "03e15030",
   "metadata": {},
   "source": [
    "***\n",
    "\n",
    "```.group(0)``` always gives the full match. In the example above ```.group(0)``` returns:\n",
    "\n",
    "> b c d\n",
    "\n",
    "But we are only interested in ```.group(1)```, the match between the two brackets:\n",
    "\n",
    "> c\n",
    "\n",
    "If we would add more closed brackets, as we will see in the next example, then we would create more groups, which are numbered in order of appearance.\n",
    "\n",
    "```.strip()``` is here merely used for aesthetic purposes. It removes whitespaces at the beginning and end of a string.\n",
    "\n",
    "\n",
    "Also note that you can - and sometimes want to - match whitespaces. This is done with the ```\\s``` Regex pattern, as can be seen in the following example. Here we only match 2 word characters that are followed by a whitespace (so 'aa ' rather than 'bb' is matched)\n",
    "\n",
    "\n",
    "***"
   ]
  },
  {
   "cell_type": "code",
   "execution_count": 4,
   "id": "82c34f23",
   "metadata": {},
   "outputs": [
    {
     "data": {
      "text/plain": [
       "<re.Match object; span=(0, 3), match='aa '>"
      ]
     },
     "execution_count": 4,
     "metadata": {},
     "output_type": "execute_result"
    }
   ],
   "source": [
    "s = 'aa bb' \n",
    "re.search(r'\\w{2}\\s', s)"
   ]
  },
  {
   "cell_type": "markdown",
   "id": "fbf2a722",
   "metadata": {},
   "source": [
    "***\n",
    "\n",
    "In the following example, we will take a look at another useful Regex trick. Imaging a situation where you are just interested in the year in which the writing of a certain book started. In such cases you can use a 'positive lookbehind' to start matching _after_ a particular pattern. \n",
    "\n",
    "We can divide the pattern below into three parts. Each part is put between brackets to compile separate groups from which we can retrieve information. ```(?<=writing)``` looks behind the word 'writing.' ```(.*?)``` matches on anything that comes after that. And ```(\\d{4})``` matches on 4 digit numbers that come after the word writing. In other words, this [string searching algorithm](https://en.wikipedia.org/wiki/String-searching_algorithm) starts becoming interested as soon as it sees 'writing,' then it processes anything, until it bumps into a 4 digit number.\n",
    "\n",
    "Now see it in action.\n",
    "\n",
    "***"
   ]
  },
  {
   "cell_type": "code",
   "execution_count": 5,
   "id": "73187e61",
   "metadata": {},
   "outputs": [
    {
     "data": {
      "text/plain": [
       "'1990'"
      ]
     },
     "execution_count": 5,
     "metadata": {},
     "output_type": "execute_result"
    }
   ],
   "source": [
    "s = 'The Philosopher\\'s Stone is published in 1997, but the writing started in 1990.'\n",
    "start = re.search(r'(?<=writing)(.*?)(\\d{4})', s)\n",
    "start.group(2).strip()\n",
    "# Note that there are 4 groups in total (group 0 to 3)"
   ]
  },
  {
   "cell_type": "markdown",
   "id": "42fc8497",
   "metadata": {},
   "source": [
    "***\n",
    "\n",
    "Finally, Regex is all about finding the right pattern for the right match(es). You don't want to make the pattern too \"greedy\" (so it gives your more than you want), and you also don't want to make it too \"strict\" (so it gives you less than you want). \n",
    "\n",
    "For instance, imagine that you like to find all three letter words (The, but, the) in the example string above. ```\\w{3}``` will not give you what you like. Just try it out. You need to demarcate the pattern with so-called \"word boundaries,\" using ```\\b\\w{3}\\b```. This will make the pattern less greedy.  \n",
    "\n",
    "\n",
    "***"
   ]
  },
  {
   "cell_type": "code",
   "execution_count": 6,
   "id": "0fb84fef",
   "metadata": {},
   "outputs": [
    {
     "data": {
      "text/plain": [
       "['The', 'but', 'the']"
      ]
     },
     "execution_count": 6,
     "metadata": {},
     "output_type": "execute_result"
    }
   ],
   "source": [
    "short_words = re.findall(r'\\b\\w{3}\\b',s) \n",
    "short_words"
   ]
  },
  {
   "cell_type": "markdown",
   "id": "b978c3b8",
   "metadata": {},
   "source": [
    "***\n",
    "\n",
    "Now you should be set for your first Regex challenges. Use the above mentioned [cheat sheet](https://www.rexegg.com/regex-quickstart.html) by Rex Egg for a nice overview of the different Regex characters and patterns.\n",
    "\n",
    "***"
   ]
  },
  {
   "cell_type": "markdown",
   "id": "630584dd",
   "metadata": {},
   "source": [
    "***\n",
    "\n",
    "### Your Regex challenges\n",
    "\n",
    "***"
   ]
  },
  {
   "cell_type": "markdown",
   "id": "2007acce",
   "metadata": {},
   "source": [
    "***\n",
    "\n",
    "**Challenge 1.** Is it likely? No. But, imaging a wave of modernization at Hogwarts, in which Professors added email to their stock pile of communication methods. As a data wizard, you will need to extract all email addresses from the existing documentation to make a clean email list. Find all email addresses in the string below. \n",
    "\n",
    "To help you in the right direction, the basics of the code are already there. You just need to replace 'your_pattern' by one of your creations.\n",
    "\n",
    "***"
   ]
  },
  {
   "cell_type": "code",
   "execution_count": 7,
   "id": "3904204a",
   "metadata": {},
   "outputs": [
    {
     "data": {
      "text/plain": [
       "['sinistra@hogwarts.edu', 'lupin@hogwarts.edu', 'snape@hogwarts.edu']"
      ]
     },
     "execution_count": 7,
     "metadata": {},
     "output_type": "execute_result"
    }
   ],
   "source": [
    "s = 'Please submit your assignments to the following email addresses. \\nAstronomy: sinistra@hogwarts.edu \\nDefence Against the Dark Arts: lupin@hogwarts.edu \\nPotions: snape@hogwarts.edu'\n",
    "mail = re.findall(r'\\w+@hogwarts.edu', s) \n",
    "mail"
   ]
  },
  {
   "cell_type": "markdown",
   "id": "a0a8eb6f",
   "metadata": {},
   "source": [
    "*** \n",
    "\n",
    "**Challenge 2.** It's not just email which is the enemy of owl post, professors may turn to telephones, too! Identify all telephone numbers within the following string. Also note that you have to match the whitespaces in between the numbers.\n",
    "\n",
    "\n",
    "***"
   ]
  },
  {
   "cell_type": "code",
   "execution_count": 8,
   "id": "d68c5b99",
   "metadata": {},
   "outputs": [
    {
     "data": {
      "text/plain": [
       "['010 4529 6017', '010 5529 9036', '010 8865 9046']"
      ]
     },
     "execution_count": 8,
     "metadata": {},
     "output_type": "execute_result"
    }
   ],
   "source": [
    "s = 'In case of emergency, please do call your professor. Reach out to Professor Sinistra at 010 4529 6017, Professor Lupin at 010 5529 9036, or Professor Snape at 010 8865 9046'\n",
    "clean = re.findall(r'\\d{3}\\s\\d{4}\\s\\d{4}', s)\n",
    "clean"
   ]
  },
  {
   "cell_type": "markdown",
   "id": "8b03399e",
   "metadata": {},
   "source": [
    "***\n",
    "\n",
    "**Challenge 3.** ```re.findall``` returns a tuple, and, if you search for multiple groups, a tuple of tuples. Write a Regex pattern that matches on 3 groups: (1) 'Professor Some_Family_Name', (2) ' at ', and (3) 'a telephone number'. Hence your output should look like this:\n",
    "\n",
    "> [('Professor Sinistra', ' at ', '010 4529 6017'),\n",
    ">\n",
    "> ('Professor Lupin', ' at ', '010 5529 9036'),\n",
    ">\n",
    "> ('Professor Snape', ' at ', '010 8865 9046')]\n",
    "\n",
    "Note that you also have to match the whitespace before and after ' at '\n",
    "\n",
    "***"
   ]
  },
  {
   "cell_type": "code",
   "execution_count": 9,
   "id": "15a1feeb",
   "metadata": {},
   "outputs": [
    {
     "data": {
      "text/plain": [
       "[('Professor Sinistra', ' at ', '010 4529 6017'),\n",
       " ('Professor Lupin', ' at ', '010 5529 9036'),\n",
       " ('Professor Snape', ' at ', '010 8865 9046')]"
      ]
     },
     "execution_count": 9,
     "metadata": {},
     "output_type": "execute_result"
    }
   ],
   "source": [
    "tt = re.findall(r'(Professor\\s\\w+)(\\sat\\s)(\\d{3}\\s\\d{4}\\s\\d{4})', s)\n",
    "tt"
   ]
  },
  {
   "cell_type": "markdown",
   "id": "894cc9d3",
   "metadata": {},
   "source": [
    "**Challenge 4.**  As a data wizard, your goal is now to make the 'at' dissapear, so that you can make a neat overview of names and telephone numbers in a Pandas Dataframe, which looks as follows:\n",
    "\n",
    "|    | name professor       | telephone number   |\n",
    "|---:|:---------------------|:-------------------|\n",
    "|  0 | Professor Snape      | 010 4529 6017      |\n",
    "|  1 | Professor Dumbledore | 010 5529 9036      |\n",
    "|  2 | Professor Lupin      | 010 8865 9046      |\n",
    "\n",
    "\n",
    "\n",
    "There are various ways to do this. From crude to elegant. Teach yourself a method of choice. For this part you may use other websites than the ones listed above."
   ]
  },
  {
   "cell_type": "code",
   "execution_count": 10,
   "id": "3aa8b69b",
   "metadata": {},
   "outputs": [
    {
     "data": {
      "text/html": [
       "<div>\n",
       "<style scoped>\n",
       "    .dataframe tbody tr th:only-of-type {\n",
       "        vertical-align: middle;\n",
       "    }\n",
       "\n",
       "    .dataframe tbody tr th {\n",
       "        vertical-align: top;\n",
       "    }\n",
       "\n",
       "    .dataframe thead th {\n",
       "        text-align: right;\n",
       "    }\n",
       "</style>\n",
       "<table border=\"1\" class=\"dataframe\">\n",
       "  <thead>\n",
       "    <tr style=\"text-align: right;\">\n",
       "      <th></th>\n",
       "      <th>name professor</th>\n",
       "      <th>telephone number</th>\n",
       "    </tr>\n",
       "  </thead>\n",
       "  <tbody>\n",
       "    <tr>\n",
       "      <th>0</th>\n",
       "      <td>Professor Sinistra</td>\n",
       "      <td>010 4529 6017</td>\n",
       "    </tr>\n",
       "    <tr>\n",
       "      <th>1</th>\n",
       "      <td>Professor Lupin</td>\n",
       "      <td>010 5529 9036</td>\n",
       "    </tr>\n",
       "    <tr>\n",
       "      <th>2</th>\n",
       "      <td>Professor Snape</td>\n",
       "      <td>010 8865 9046</td>\n",
       "    </tr>\n",
       "  </tbody>\n",
       "</table>\n",
       "</div>"
      ],
      "text/plain": [
       "       name professor telephone number\n",
       "0  Professor Sinistra    010 4529 6017\n",
       "1     Professor Lupin    010 5529 9036\n",
       "2     Professor Snape    010 8865 9046"
      ]
     },
     "execution_count": 10,
     "metadata": {},
     "output_type": "execute_result"
    }
   ],
   "source": [
    "import pandas as pd\n",
    "import numpy as np\n",
    "df = pd.DataFrame(np.row_stack(tt))\n",
    "df = df.drop(df.columns[1], axis=1)\n",
    "df = df.rename(columns={df.columns[0]: 'name professor', df.columns[1]: 'telephone number'})\n",
    "df"
   ]
  },
  {
   "cell_type": "markdown",
   "id": "0a98e0b6",
   "metadata": {},
   "source": [
    "***\n",
    "\n",
    "**Challenge 6.**  For the next part you need to learn two new tricks. First, you already looked into a positive lookbehind. Similary, Regex also offer a 'positive lookahead,' which can yield matches _before_ a particular character. Use ```(?=some_character)```, where 'some_character' should be replaced by a character of your choice. In the example below, the Regex pattern will match on any single word character which is followed by a space and the letter 'c.'\n",
    "\n",
    "***"
   ]
  },
  {
   "cell_type": "code",
   "execution_count": 11,
   "id": "91a294a5",
   "metadata": {},
   "outputs": [
    {
     "data": {
      "text/plain": [
       "<re.Match object; span=(2, 3), match='b'>"
      ]
     },
     "execution_count": 11,
     "metadata": {},
     "output_type": "execute_result"
    }
   ],
   "source": [
    "s = 'a b c d'\n",
    "m = re.search(r'\\w{1}(?=\\sc)', s) # note that you need to add a space character either before the c or after the \\w{1}\n",
    "m"
   ]
  },
  {
   "cell_type": "markdown",
   "id": "fac6069c",
   "metadata": {},
   "source": [
    "***\n",
    "\n",
    "Second, Regex also makes it possible to use optional patterns, you can match those, but they are not necessary. A ```?``` makes the preceding pattern optional. So, in the example below, you will see that exactly the same Regex pattern will match both on 'Harry' and 'Harry Potter.'\n",
    "\n",
    "***"
   ]
  },
  {
   "cell_type": "code",
   "execution_count": 12,
   "id": "b68f406a",
   "metadata": {},
   "outputs": [
    {
     "name": "stdout",
     "output_type": "stream",
     "text": [
      "<re.Match object; span=(0, 5), match='Harry'>\n",
      "<re.Match object; span=(0, 12), match='Harry Potter'>\n"
     ]
    }
   ],
   "source": [
    "h  = 'Harry'\n",
    "hp = 'Harry Potter'\n",
    "m1 = re.search(r'Harry(\\sPotter)?', h)\n",
    "m2 = re.search(r'Harry(\\sPotter)?', hp)\n",
    "print(m1)\n",
    "print(m2)"
   ]
  },
  {
   "cell_type": "markdown",
   "id": "42578c0f",
   "metadata": {},
   "source": [
    "***\n",
    "\n",
    "Now it is your turn. For this challenge, you need to turn Harry's grades into a neat Dataframe. You start again by creating a tuple of tuples, in which you capture both subjects and grades. For this you will need a positive lookahead and some optional items. Then you turn ```tt``` into a Dataframe.\n",
    "\n",
    "***"
   ]
  },
  {
   "cell_type": "code",
   "execution_count": 13,
   "id": "f8987415",
   "metadata": {},
   "outputs": [
    {
     "data": {
      "text/plain": [
       "[('History of Magic: ', 'A'),\n",
       " ('Muggle Studies: ', 'A'),\n",
       " ('Transfiguration: ', 'E'),\n",
       " ('Arithmancy: ', 'A'),\n",
       " ('Divination: ', 'O')]"
      ]
     },
     "execution_count": 13,
     "metadata": {},
     "output_type": "execute_result"
    }
   ],
   "source": [
    "grades = 'History of Magic: A; Muggle Studies: A; Potions O; Transfiguration: E; Arithmancy: A; Divination: O;'\n",
    "tt = re.findall(r'(\\w+\\s?\\w+\\s?\\w+:\\s)(\\w{1})(?=;)', grades)\n",
    "tt"
   ]
  },
  {
   "cell_type": "code",
   "execution_count": 14,
   "id": "053b0528",
   "metadata": {},
   "outputs": [
    {
     "data": {
      "text/html": [
       "<div>\n",
       "<style scoped>\n",
       "    .dataframe tbody tr th:only-of-type {\n",
       "        vertical-align: middle;\n",
       "    }\n",
       "\n",
       "    .dataframe tbody tr th {\n",
       "        vertical-align: top;\n",
       "    }\n",
       "\n",
       "    .dataframe thead th {\n",
       "        text-align: right;\n",
       "    }\n",
       "</style>\n",
       "<table border=\"1\" class=\"dataframe\">\n",
       "  <thead>\n",
       "    <tr style=\"text-align: right;\">\n",
       "      <th></th>\n",
       "      <th>subject</th>\n",
       "      <th>grade</th>\n",
       "    </tr>\n",
       "  </thead>\n",
       "  <tbody>\n",
       "    <tr>\n",
       "      <th>0</th>\n",
       "      <td>History of Magic:</td>\n",
       "      <td>A</td>\n",
       "    </tr>\n",
       "    <tr>\n",
       "      <th>1</th>\n",
       "      <td>Muggle Studies:</td>\n",
       "      <td>A</td>\n",
       "    </tr>\n",
       "    <tr>\n",
       "      <th>2</th>\n",
       "      <td>Transfiguration:</td>\n",
       "      <td>E</td>\n",
       "    </tr>\n",
       "    <tr>\n",
       "      <th>3</th>\n",
       "      <td>Arithmancy:</td>\n",
       "      <td>A</td>\n",
       "    </tr>\n",
       "    <tr>\n",
       "      <th>4</th>\n",
       "      <td>Divination:</td>\n",
       "      <td>O</td>\n",
       "    </tr>\n",
       "  </tbody>\n",
       "</table>\n",
       "</div>"
      ],
      "text/plain": [
       "              subject grade\n",
       "0  History of Magic:      A\n",
       "1    Muggle Studies:      A\n",
       "2   Transfiguration:      E\n",
       "3        Arithmancy:      A\n",
       "4        Divination:      O"
      ]
     },
     "execution_count": 14,
     "metadata": {},
     "output_type": "execute_result"
    }
   ],
   "source": [
    "import pandas as pd\n",
    "import numpy as np\n",
    "df = pd.DataFrame(np.row_stack(tt))\n",
    "df = df.rename(columns={df.columns[0]: 'subject', df.columns[1]: 'grade'})\n",
    "df  "
   ]
  },
  {
   "cell_type": "markdown",
   "id": "3c0d4c6a",
   "metadata": {},
   "source": [
    "***\n",
    "\n",
    "**Challenge 7.** ```re.sub()``` is an often used operation to clean and organize (textual) data. It works with a pattern that matches something, which is then replaced by something else. For instance, here we replace all underscores for spaces.\n",
    "\n",
    "***"
   ]
  },
  {
   "cell_type": "code",
   "execution_count": 15,
   "id": "de1f98ac",
   "metadata": {},
   "outputs": [
    {
     "data": {
      "text/plain": [
       "'Hogwarts School of Witchcraft and Wizardry'"
      ]
     },
     "execution_count": 15,
     "metadata": {},
     "output_type": "execute_result"
    }
   ],
   "source": [
    "s = 'Hogwarts_School_of_Witchcraft_and_Wizardry'\n",
    "space = re.sub(r'_', ' ', s)\n",
    "space"
   ]
  },
  {
   "cell_type": "markdown",
   "id": "dc0d3e14",
   "metadata": {},
   "source": [
    "***\n",
    "\n",
    "Things can be made more interestingly by adding a definition that can deal with different scenarios. Built a definition called ```grader``` which transforms the single letter grades into grades that are fully written out. If you do not know them by heart, then you can find the meaning of the different grades at Hogwarts [here](https://www.hp-lexicon.org/thing/grades-at-hogwarts/). For this part you may again use other websites than the ones listed above.\n",
    "\n",
    "***"
   ]
  },
  {
   "cell_type": "code",
   "execution_count": 16,
   "id": "b6c2d8be",
   "metadata": {},
   "outputs": [
    {
     "data": {
      "text/plain": [
       "'History of Magic: Acceptable; Muggle Studies: Acceptable; Potions Outstanding; Transfiguration: Exceeds expectations; Arithmancy: Acceptable; Divination: Outstanding;'"
      ]
     },
     "execution_count": 16,
     "metadata": {},
     "output_type": "execute_result"
    }
   ],
   "source": [
    "grades = 'History of Magic: A; Muggle Studies: A; Potions O; Transfiguration: E; Arithmancy: A; Divination: O;'\n",
    "def grader(match_obj):\n",
    "    if match_obj.group(1) == 'O;': return 'Outstanding;'\n",
    "    if match_obj.group(2) == 'E;': return 'Exceeds expectations;'\n",
    "    if match_obj.group(3) == 'A;': return 'Acceptable;'\n",
    "\n",
    "full_grades = re.sub(r\"(O;)|(E;)|(A;)\", grader, grades)\n",
    "full_grades"
   ]
  },
  {
   "cell_type": "markdown",
   "id": "4332f54a",
   "metadata": {},
   "source": [
    "***\n",
    "\n",
    "### Further reading\n",
    "\n",
    "Apart from the three websites listed in the top of this Notebook, you can also read Christopher Toa's [cool blogpost](https://towardsdatascience.com/7-useful-tricks-for-python-regex-you-should-know-ec20381e22f2) on '7 Useful Tricks for Python Regex.' For instance, trick 4 show how you can not only customize ```re.sub``` with a definition, but also with a lambda function.\n",
    "\n",
    "***"
   ]
  }
 ],
 "metadata": {
  "kernelspec": {
   "display_name": "Python 3 (ipykernel)",
   "language": "python",
   "name": "python3"
  },
  "language_info": {
   "codemirror_mode": {
    "name": "ipython",
    "version": 3
   },
   "file_extension": ".py",
   "mimetype": "text/x-python",
   "name": "python",
   "nbconvert_exporter": "python",
   "pygments_lexer": "ipython3",
   "version": "3.9.13"
  }
 },
 "nbformat": 4,
 "nbformat_minor": 5
}
